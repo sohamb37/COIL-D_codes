{
 "cells": [
  {
   "cell_type": "markdown",
   "metadata": {},
   "source": [
    "# Get Bi-weekly stats\n",
    "\n",
    "Simple notebook to merge 2 weeks csv files and get the relevant difference."
   ]
  },
  {
   "cell_type": "code",
   "execution_count": 1,
   "metadata": {},
   "outputs": [],
   "source": [
    "import pandas as pd\n",
    "import numpy as np"
   ]
  },
  {
   "cell_type": "code",
   "execution_count": 24,
   "metadata": {},
   "outputs": [],
   "source": [
    "new_df = pd.read_csv(\"/home/soham37/python/stats_iitp_26May.csv\") # get the new stat.csv\n",
    "old_df = pd.read_csv(\"/home/soham37/python/12May_iitp.csv\") # get the previous stat.csv"
   ]
  },
  {
   "cell_type": "code",
   "execution_count": 26,
   "metadata": {},
   "outputs": [],
   "source": [
    "merged_df = new_df.merge(old_df, how = \"left\", on = ['Language Pair', 'Domain', 'Type']) # Merge the dfs"
   ]
  },
  {
   "cell_type": "code",
   "execution_count": 27,
   "metadata": {},
   "outputs": [],
   "source": [
    "merged_df[\"Files\"] = merged_df[\"Files_x\"]\n",
    "merged_df[\"Lines\"] = merged_df[\"Lines_x\"] - merged_df[\"Lines_y\"]\n",
    "merged_df[\"Words\"] = merged_df[\"Words_x\"] - merged_df[\"Words_y\"]  # Subtract the lines and words columns"
   ]
  },
  {
   "cell_type": "code",
   "execution_count": 28,
   "metadata": {},
   "outputs": [],
   "source": [
    "merged_df = merged_df.drop(columns =[\"Lines_x\", \"Lines_y\", \"Words_x\", \"Words_y\", \"Files_x\", \"Files_y\"], ) # Drop the duplicate columns"
   ]
  },
  {
   "cell_type": "code",
   "execution_count": 31,
   "metadata": {},
   "outputs": [],
   "source": [
    "merged_df.to_csv(\"/home/soham37/python/biweekly_26thMay.csv\") # Convert back into csv"
   ]
  },
  {
   "cell_type": "code",
   "execution_count": 23,
   "metadata": {},
   "outputs": [
    {
     "data": {
      "text/html": [
       "<div>\n",
       "<style scoped>\n",
       "    .dataframe tbody tr th:only-of-type {\n",
       "        vertical-align: middle;\n",
       "    }\n",
       "\n",
       "    .dataframe tbody tr th {\n",
       "        vertical-align: top;\n",
       "    }\n",
       "\n",
       "    .dataframe thead th {\n",
       "        text-align: right;\n",
       "    }\n",
       "</style>\n",
       "<table border=\"1\" class=\"dataframe\">\n",
       "  <thead>\n",
       "    <tr style=\"text-align: right;\">\n",
       "      <th></th>\n",
       "      <th>Language Pair</th>\n",
       "      <th>Domain</th>\n",
       "      <th>Type</th>\n",
       "      <th>Files</th>\n",
       "      <th>Lines</th>\n",
       "      <th>Words</th>\n",
       "    </tr>\n",
       "  </thead>\n",
       "  <tbody>\n",
       "    <tr>\n",
       "      <th>0</th>\n",
       "      <td>HIN-BAN</td>\n",
       "      <td>AGRI</td>\n",
       "      <td>source_reviewed</td>\n",
       "      <td>1</td>\n",
       "      <td>0</td>\n",
       "      <td>0</td>\n",
       "    </tr>\n",
       "    <tr>\n",
       "      <th>1</th>\n",
       "      <td>HIN-BAN</td>\n",
       "      <td>AGRI</td>\n",
       "      <td>source_translated</td>\n",
       "      <td>31</td>\n",
       "      <td>0</td>\n",
       "      <td>0</td>\n",
       "    </tr>\n",
       "    <tr>\n",
       "      <th>2</th>\n",
       "      <td>HIN-BAN</td>\n",
       "      <td>EDU</td>\n",
       "      <td>source_reviewed</td>\n",
       "      <td>29</td>\n",
       "      <td>0</td>\n",
       "      <td>0</td>\n",
       "    </tr>\n",
       "    <tr>\n",
       "      <th>3</th>\n",
       "      <td>HIN-BAN</td>\n",
       "      <td>EDU</td>\n",
       "      <td>source_translated</td>\n",
       "      <td>53</td>\n",
       "      <td>0</td>\n",
       "      <td>0</td>\n",
       "    </tr>\n",
       "    <tr>\n",
       "      <th>4</th>\n",
       "      <td>HIN-BAN</td>\n",
       "      <td>GOV</td>\n",
       "      <td>source_reviewed</td>\n",
       "      <td>134</td>\n",
       "      <td>0</td>\n",
       "      <td>0</td>\n",
       "    </tr>\n",
       "  </tbody>\n",
       "</table>\n",
       "</div>"
      ],
      "text/plain": [
       "  Language Pair Domain               Type  Files  Lines  Words\n",
       "0       HIN-BAN   AGRI    source_reviewed      1      0      0\n",
       "1       HIN-BAN   AGRI  source_translated     31      0      0\n",
       "2       HIN-BAN    EDU    source_reviewed     29      0      0\n",
       "3       HIN-BAN    EDU  source_translated     53      0      0\n",
       "4       HIN-BAN    GOV    source_reviewed    134      0      0"
      ]
     },
     "execution_count": 23,
     "metadata": {},
     "output_type": "execute_result"
    }
   ],
   "source": []
  },
  {
   "cell_type": "code",
   "execution_count": null,
   "metadata": {},
   "outputs": [],
   "source": []
  }
 ],
 "metadata": {
  "kernelspec": {
   "display_name": "Python 3",
   "language": "python",
   "name": "python3"
  },
  "language_info": {
   "codemirror_mode": {
    "name": "ipython",
    "version": 3
   },
   "file_extension": ".py",
   "mimetype": "text/x-python",
   "name": "python",
   "nbconvert_exporter": "python",
   "pygments_lexer": "ipython3",
   "version": "3.10.12"
  }
 },
 "nbformat": 4,
 "nbformat_minor": 2
}
