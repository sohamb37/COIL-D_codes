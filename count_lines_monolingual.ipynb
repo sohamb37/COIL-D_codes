{
 "cells": [
  {
   "cell_type": "code",
   "execution_count": null,
   "id": "58227f90",
   "metadata": {},
   "outputs": [
    {
     "name": "stdout",
     "output_type": "stream",
     "text": [
      "Total lines in leaf files: 989\n"
     ]
    }
   ],
   "source": [
    "import os\n",
    "\n",
    "def count_lines_in_leaf_files(folder_path):\n",
    "    total_lines = 0\n",
    "\n",
    "    for root, dirs, files in os.walk(folder_path):\n",
    "        # leaf directory = no subdirectories under it\n",
    "        if not dirs:\n",
    "            for file in files:\n",
    "                file_path = os.path.join(root, file)\n",
    "                try:\n",
    "                    with open(file_path, \"r\", encoding=\"utf-8\", errors=\"ignore\") as f:\n",
    "                        total_lines += sum(1 for _ in f)\n",
    "                except Exception as e:\n",
    "                    print(f\"Skipping {file_path} due to error: {e}\")\n",
    "\n",
    "    return total_lines\n",
    "\n",
    "# Example usage\n",
    "folder = \"/home/soham37/COIL_D_institutes/IITD/Monolingual/Hindi/Validated\"\n",
    "print(\"Total lines in leaf files:\", count_lines_in_leaf_files(folder))\n"
   ]
  },
  {
   "cell_type": "code",
   "execution_count": 2,
   "id": "a2e9e770",
   "metadata": {},
   "outputs": [
    {
     "name": "stdout",
     "output_type": "stream",
     "text": [
      "Total lines in leaf files: 57376\n"
     ]
    }
   ],
   "source": [
    "folder = \"/home/soham37/Desktop/COIL-D/COIL_D_Repo/Monolingual/Hindi/Validated/GOV\"\n",
    "print(\"Total lines in leaf files:\", count_lines_in_leaf_files(folder))"
   ]
  },
  {
   "cell_type": "code",
   "execution_count": 5,
   "id": "e63230a4",
   "metadata": {},
   "outputs": [
    {
     "name": "stdout",
     "output_type": "stream",
     "text": [
      "Total lines in leaf files: 17325\n"
     ]
    }
   ],
   "source": [
    "folder = \"/home/soham37/COIL_D_institutes/MIT/Monolingual/Tamil/Validated\"\n",
    "print(\"Total lines in leaf files:\", count_lines_in_leaf_files(folder))"
   ]
  },
  {
   "cell_type": "code",
   "execution_count": 6,
   "id": "bbd791d1",
   "metadata": {},
   "outputs": [
    {
     "name": "stdout",
     "output_type": "stream",
     "text": [
      "Total lines in leaf files: 99884\n"
     ]
    }
   ],
   "source": [
    "folder = \"/home/soham37/COIL_D_institutes/MIT/Monolingual/Tamil/Raw Data\"\n",
    "print(\"Total lines in leaf files:\", count_lines_in_leaf_files(folder))"
   ]
  },
  {
   "cell_type": "markdown",
   "id": "e49309d3",
   "metadata": {},
   "source": [
    "# Find the Monolingual Distribution of the Data"
   ]
  },
  {
   "cell_type": "code",
   "execution_count": 1,
   "id": "5020e2ff",
   "metadata": {},
   "outputs": [
    {
     "name": "stdout",
     "output_type": "stream",
     "text": [
      "Statistics saved to /home/soham37/python/Stats/monolingual_stats.csv\n",
      "{'Language': 'Hindi', 'Category': 'Raw', 'Primary_Domain': 'Healthcare_raw', 'Num_Files': 6, 'Num_Lines': 6656}\n",
      "{'Language': 'Hindi', 'Category': 'Raw', 'Primary_Domain': 'Judiciary', 'Num_Files': 1, 'Num_Lines': 10103}\n",
      "{'Language': 'Hindi', 'Category': 'Raw', 'Primary_Domain': 'Education', 'Num_Files': 3, 'Num_Lines': 8364}\n",
      "{'Language': 'Hindi', 'Category': 'Raw', 'Primary_Domain': 'Science and Technology', 'Num_Files': 11, 'Num_Lines': 4165}\n",
      "{'Language': 'Hindi', 'Category': 'Raw', 'Primary_Domain': 'Agriculture', 'Num_Files': 1, 'Num_Lines': 5099}\n",
      "{'Language': 'Hindi', 'Category': 'Validated', 'Primary_Domain': 'GOV', 'Num_Files': 45, 'Num_Lines': 112789}\n",
      "{'Language': 'Hindi', 'Category': 'Validated', 'Primary_Domain': 'Tourism', 'Num_Files': 1, 'Num_Lines': 4288}\n",
      "{'Language': 'Hindi', 'Category': 'Validated', 'Primary_Domain': 'Health', 'Num_Files': 11, 'Num_Lines': 6552}\n",
      "{'Language': 'Hindi', 'Category': 'Validated', 'Primary_Domain': 'Judiciary', 'Num_Files': 2, 'Num_Lines': 6519}\n",
      "{'Language': 'Hindi', 'Category': 'Validated', 'Primary_Domain': 'Education', 'Num_Files': 11, 'Num_Lines': 14130}\n",
      "{'Language': 'Hindi', 'Category': 'Validated', 'Primary_Domain': 'Agriculture', 'Num_Files': 2, 'Num_Lines': 5274}\n",
      "{'Language': 'Hindi', 'Category': 'Validated', 'Primary_Domain': 'Science & Technology', 'Num_Files': 8, 'Num_Lines': 4053}\n",
      "{'Language': 'Tamil', 'Category': 'Validated', 'Primary_Domain': 'SAT', 'Num_Files': 17, 'Num_Lines': 2924}\n",
      "{'Language': 'Tamil', 'Category': 'Validated', 'Primary_Domain': 'GOV', 'Num_Files': 41, 'Num_Lines': 5452}\n",
      "{'Language': 'Tamil', 'Category': 'Validated', 'Primary_Domain': 'EDU', 'Num_Files': 38, 'Num_Lines': 3987}\n",
      "{'Language': 'Tamil', 'Category': 'Validated', 'Primary_Domain': 'AGRI', 'Num_Files': 9, 'Num_Lines': 2207}\n",
      "{'Language': 'Tamil', 'Category': 'Validated', 'Primary_Domain': 'TOUR', 'Num_Files': 10, 'Num_Lines': 1046}\n"
     ]
    }
   ],
   "source": [
    "import os\n",
    "import csv\n",
    "\n",
    "def count_lines_in_file(filepath):\n",
    "    \"\"\"Count number of lines in a text file.\"\"\"\n",
    "    try:\n",
    "        with open(filepath, \"r\", encoding=\"utf-8\", errors=\"ignore\") as f:\n",
    "            return sum(1 for _ in f)\n",
    "    except Exception as e:\n",
    "        print(f\"Error reading {filepath}: {e}\")\n",
    "        return 0\n",
    "\n",
    "def collect_stats(parent_folder, output_csv=\"/home/soham37/python/Stats/monolingual_stats.csv\"):\n",
    "    stats = []\n",
    "\n",
    "    for language in os.listdir(parent_folder):\n",
    "        lang_path = os.path.join(parent_folder, language)\n",
    "        if not os.path.isdir(lang_path):\n",
    "            continue\n",
    "\n",
    "        for category in [\"Raw\", \"Validated\"]:  # loop over Raw & Validated\n",
    "            category_path = os.path.join(lang_path, category)\n",
    "            if not os.path.isdir(category_path):\n",
    "                continue\n",
    "\n",
    "            for primary_domain in os.listdir(category_path):\n",
    "                primary_path = os.path.join(category_path, primary_domain)\n",
    "                if not os.path.isdir(primary_path):\n",
    "                    continue\n",
    "\n",
    "                num_files = 0\n",
    "                total_lines = 0\n",
    "\n",
    "                # Traverse all sub-domains recursively\n",
    "                for root, _, files in os.walk(primary_path):\n",
    "                    for file in files:\n",
    "                        file_path = os.path.join(root, file)\n",
    "                        num_files += 1\n",
    "                        total_lines += count_lines_in_file(file_path)\n",
    "\n",
    "                stats.append({\n",
    "                    \"Language\": language,\n",
    "                    \"Category\": category,\n",
    "                    \"Primary_Domain\": primary_domain,\n",
    "                    \"Num_Files\": num_files,\n",
    "                    \"Num_Lines\": total_lines\n",
    "                })\n",
    "\n",
    "    # Save to CSV\n",
    "    with open(output_csv, \"w\", newline=\"\", encoding=\"utf-8\") as f:\n",
    "        writer = csv.DictWriter(f, fieldnames=[\"Language\", \"Category\", \"Primary_Domain\", \"Num_Files\", \"Num_Lines\"])\n",
    "        writer.writeheader()\n",
    "        writer.writerows(stats)\n",
    "\n",
    "    print(f\"Statistics saved to {output_csv}\")\n",
    "    return stats\n",
    "\n",
    "\n",
    "# Example usage:\n",
    "parent_folder = \"/home/soham37/python/Monolingual\"  # replace with actual path\n",
    "stats = collect_stats(parent_folder)\n",
    "\n",
    "# Pretty print\n",
    "for row in stats:\n",
    "    print(row)"
   ]
  },
  {
   "cell_type": "code",
   "execution_count": null,
   "id": "4daeae19",
   "metadata": {},
   "outputs": [],
   "source": []
  }
 ],
 "metadata": {
  "kernelspec": {
   "display_name": "Python 3",
   "language": "python",
   "name": "python3"
  },
  "language_info": {
   "codemirror_mode": {
    "name": "ipython",
    "version": 3
   },
   "file_extension": ".py",
   "mimetype": "text/x-python",
   "name": "python",
   "nbconvert_exporter": "python",
   "pygments_lexer": "ipython3",
   "version": "3.10.12"
  }
 },
 "nbformat": 4,
 "nbformat_minor": 5
}
