{
 "cells": [
  {
   "cell_type": "code",
   "execution_count": 1,
   "id": "00c5879d",
   "metadata": {},
   "outputs": [
    {
     "name": "stdout",
     "output_type": "stream",
     "text": [
      "✅ Restructuring and merging completed. Output saved in: /home/soham37/python/Domain_Wise_Arranged_Parallel\n"
     ]
    }
   ],
   "source": [
    "import os\n",
    "import shutil\n",
    "from pathlib import Path\n",
    "\n",
    "# === CONFIGURATION ===\n",
    "input_dir = Path(\"/home/soham37/python/Parallel_v2\")   # Root directory with original structure\n",
    "output_dir = Path(\"/home/soham37/python/Domain_Wise_Arranged_Parallel\")    # Destination directory to store segregated data\n",
    "output_dir.mkdir(parents=True, exist_ok=True)\n",
    "\n",
    "# Step 1: Scan through the original structure\n",
    "for lang_pair_dir in input_dir.iterdir():\n",
    "    if lang_pair_dir.is_dir():\n",
    "        for primary_domain_dir in lang_pair_dir.iterdir():\n",
    "            if primary_domain_dir.is_dir():\n",
    "                primary_domain = primary_domain_dir.name  # AGRI / EDU / GOV etc.\n",
    "\n",
    "                for sub_domain_dir in primary_domain_dir.iterdir():\n",
    "                    if sub_domain_dir.is_dir():\n",
    "                        sub_domain_name = sub_domain_dir.name  # EDU_NCERT_PHY, etc.\n",
    "\n",
    "                        # Find translation_text folder\n",
    "                        translation_text_dir = sub_domain_dir / \"translation_text\"\n",
    "                        if not translation_text_dir.exists():\n",
    "                            continue\n",
    "\n",
    "                        for data_type_dir in translation_text_dir.iterdir():\n",
    "                            if data_type_dir.is_dir():  # source_translated, source_reviewed, etc.\n",
    "                                data_type = data_type_dir.name\n",
    "\n",
    "                                # === Step 2: Build new structure: primary_domain -> lang_pair -> sub_domain -> translation_text -> data_type ===\n",
    "                                new_path = (\n",
    "                                    output_dir\n",
    "                                    / primary_domain\n",
    "                                    / lang_pair_dir.name\n",
    "                                    / sub_domain_name\n",
    "                                    / \"translation_text\"\n",
    "                                    / data_type\n",
    "                                )\n",
    "                                new_path.mkdir(parents=True, exist_ok=True)\n",
    "\n",
    "                                # === Step 3: Merge all files in this folder ===\n",
    "                                merged_file_path = new_path / f\"{data_type}_merged.txt\"\n",
    "\n",
    "                                with open(merged_file_path, \"w\", encoding=\"utf-8\") as outfile:\n",
    "                                    for txt_file in sorted(data_type_dir.glob(\"*.txt\")):\n",
    "                                        with open(txt_file, \"r\", encoding=\"utf-8\") as infile:\n",
    "                                            shutil.copyfileobj(infile, outfile)\n",
    "                                        outfile.write(\"\\n\")  # optional separator between files\n",
    "\n",
    "print(f\"✅ Restructuring and merging completed. Output saved in: {output_dir}\")\n"
   ]
  },
  {
   "cell_type": "code",
   "execution_count": null,
   "id": "7fc25844",
   "metadata": {},
   "outputs": [],
   "source": []
  },
  {
   "cell_type": "code",
   "execution_count": null,
   "id": "8fc6c324",
   "metadata": {},
   "outputs": [],
   "source": []
  },
  {
   "cell_type": "code",
   "execution_count": null,
   "id": "fa2d8b47",
   "metadata": {},
   "outputs": [],
   "source": []
  },
  {
   "cell_type": "code",
   "execution_count": null,
   "id": "8e80206b",
   "metadata": {},
   "outputs": [],
   "source": []
  },
  {
   "cell_type": "code",
   "execution_count": null,
   "id": "f8570540",
   "metadata": {},
   "outputs": [],
   "source": []
  },
  {
   "cell_type": "code",
   "execution_count": null,
   "id": "621ca507",
   "metadata": {},
   "outputs": [],
   "source": []
  },
  {
   "cell_type": "code",
   "execution_count": null,
   "id": "836fdbc7",
   "metadata": {},
   "outputs": [],
   "source": []
  },
  {
   "cell_type": "code",
   "execution_count": null,
   "id": "b3d3ecea",
   "metadata": {},
   "outputs": [],
   "source": []
  }
 ],
 "metadata": {
  "kernelspec": {
   "display_name": "Python 3",
   "language": "python",
   "name": "python3"
  },
  "language_info": {
   "codemirror_mode": {
    "name": "ipython",
    "version": 3
   },
   "file_extension": ".py",
   "mimetype": "text/x-python",
   "name": "python",
   "nbconvert_exporter": "python",
   "pygments_lexer": "ipython3",
   "version": "3.10.12"
  }
 },
 "nbformat": 4,
 "nbformat_minor": 5
}
